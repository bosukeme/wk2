{
 "cells": [
  {
   "cell_type": "markdown",
   "metadata": {},
   "source": [
    "# February\n",
    "\n",
    "### Workbook 2: Real Estate Tycoon - Supervised learning: Regression\n",
    "\n",
    "Description: In this project, you'll be helping a Real Estate Company estimate how much the optimal prices of their houses should be using parameters like year built, exterior walls, roof types, basements, square area and 21 other features. You'll be carrying out your analysis on about 1800 houses.\n",
    "\n",
    "Concepts include: \n",
    "-Practical comparison of regression algorithms\n",
    "-How to perform exploratory data analysis\n",
    "-When to apply data pre-processing steps\n",
    "-How to sample and split your data the right way\n",
    "-The #1 guideline for choosing the best model for the problem\n",
    "\n",
    "4th of Feb to 8th of Feb = Module 1 and 2(Data Analysis and cleaning)\n",
    "\n",
    "9th of Feb = Mentorship session with Jean Francois Aie\n",
    "\n",
    "11th of Feb to 15th of Feb = Module 3(Feature Engineering)\n",
    "\n",
    "14th of Feb = Mentorship session with Prof Elaine Nseosie\n",
    "\n",
    "18th to 22nd of Feb of Feb = Module 4 and 5(Model maths and Model Training)\n",
    "\n",
    "24th of February = Mentorship session with Rediet Abebe"
   ]
  },
  {
   "cell_type": "markdown",
   "metadata": {},
   "source": [
    "Once again, the instructions are clear. You need to copy the code in this workbook, paste in your jupyter notebook, arrange your notebook in the same other and upload them to GitHub\n",
    "\n",
    "If you still have issues uploading to GitHub or installing any of the required packages, please revert to your Whatsapp group or send a message on Slack"
   ]
  },
  {
   "cell_type": "code",
   "execution_count": null,
   "metadata": {},
   "outputs": [],
   "source": [
    "Introduction video: https://drive.google.com/file/d/1nr1KMKk1EGqSUpSBf9QYW3g4Ub4WmDc4/view\n",
    "        https://youtu.be/CViFc9B1CP8\n",
    "            "
   ]
  }
 ],
 "metadata": {
  "kernelspec": {
   "display_name": "Python 3",
   "language": "python",
   "name": "python3"
  },
  "language_info": {
   "codemirror_mode": {
    "name": "ipython",
    "version": 3
   },
   "file_extension": ".py",
   "mimetype": "text/x-python",
   "name": "python",
   "nbconvert_exporter": "python",
   "pygments_lexer": "ipython3",
   "version": "3.6.5"
  }
 },
 "nbformat": 4,
 "nbformat_minor": 2
}

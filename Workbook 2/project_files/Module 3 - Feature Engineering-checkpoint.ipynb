{
 "cells": [
  {
   "cell_type": "markdown",
   "metadata": {},
   "source": [
    "<h1 style=\"font-size:42px; text-align:center; margin-bottom:30px;\"><span style=\"color:SteelBlue\">Module 3:</span> Feature Engineering</h1>\n",
    "<hr>\n",
    "\n",
    "After cleaning the dataset, the next step is to engineer features that can help our predictive models. \n",
    "\n",
    "<br>\n",
    "> *<span style=\"color:tomato;font-weight:bold\">Feature engineering</span> is the practice of creating new features from existing ones.*\n",
    "* The engineered features are often more specific or isolate key information.\n",
    "\n",
    "<br>\n",
    "Often, feature engineering is one of the most valuable tasks a data scientist can do to improve model effectiveness.\n",
    "\n",
    "This is not an exhaustive list of all types of feature engineering. There are  limitless possibilities for this step, and it's a skill that will naturally improve as you gain more experience and domain expertise. However, you can use this checklist as a reliable starting point!\n",
    "\n",
    "\n",
    "\n",
    "<br><hr id=\"toc\">\n",
    "\n",
    "### In this module...\n",
    "\n",
    "We'll load our cleaned dataset and then cover these steps: \n",
    "\n",
    "1. [Start with domain knowledge](#domain)\n",
    "2. [Create interaction features](#interaction)\n",
    "3. [Group sparse classes](#group)\n",
    "4. [Encode dummy variables](#dummy)\n",
    "5. [Remove unused or redundant features](#remove)\n",
    "\n",
    "Finally, we'll save the augmented dataframe (analytical base table) to a new file so we can use it for modeling.\n",
    "\n",
    "<br><hr>"
   ]
  },
  {
   "cell_type": "markdown",
   "metadata": {},
   "source": [
    "### First, let's import libraries and load the cleaned dataset.\n",
    "\n",
    "In general, it's good practice to keep all of your library imports at the top of your notebook or program.\n",
    "\n",
    "Before we do anything else, let's import the <code style=\"color:steelblue\">print()</code> function from the future to ensure our code is compatible with Python 3."
   ]
  },
  {
   "cell_type": "code",
   "execution_count": 54,
   "metadata": {
    "collapsed": false
   },
   "outputs": [
    {
     "name": "stdout",
     "output_type": "stream",
     "text": [
      "Print function ready to serve.\n"
     ]
    }
   ],
   "source": [
    "from __future__ import print_function  # Compatability with Python 3\n",
    "print( 'Print function ready to serve.' )"
   ]
  },
  {
   "cell_type": "markdown",
   "metadata": {},
   "source": [
    "Next, let's import the libraries we'll need for this module."
   ]
  },
  {
   "cell_type": "code",
   "execution_count": 55,
   "metadata": {
    "collapsed": false
   },
   "outputs": [],
   "source": [
    "# NumPy for numerical computing\n",
    "import numpy as np\n",
    "\n",
    "# Pandas for DataFrames\n",
    "import pandas as pd\n",
    "pd.set_option('display.max_columns', 100)\n",
    "pd.options.mode.chained_assignment = None  # default='warn'\n",
    "\n",
    "# Matplotlib for visualization\n",
    "from matplotlib import pyplot as plt\n",
    "# display plots in the notebook\n",
    "%matplotlib inline \n",
    "\n",
    "# Seaborn for easier visualization\n",
    "import seaborn as sns"
   ]
  },
  {
   "cell_type": "markdown",
   "metadata": {},
   "source": [
    "Next, let's import the **cleaned** dataset that we created in the previous module."
   ]
  },
  {
   "cell_type": "code",
   "execution_count": 87,
   "metadata": {
    "collapsed": false
   },
   "outputs": [],
   "source": [
    "# Load cleaned dataset from Module 2\n",
    "df = pd.read_csv('cleaned_df.csv')"
   ]
  },
  {
   "cell_type": "markdown",
   "metadata": {},
   "source": [
    "Now, let's display the first 5 rows from the dataset, just so we can have all of the existing features in front of us."
   ]
  },
  {
   "cell_type": "code",
   "execution_count": 57,
   "metadata": {
    "collapsed": false
   },
   "outputs": [
    {
     "data": {
      "text/html": [
       "<div>\n",
       "<table border=\"1\" class=\"dataframe\">\n",
       "  <thead>\n",
       "    <tr style=\"text-align: right;\">\n",
       "      <th></th>\n",
       "      <th>tx_price</th>\n",
       "      <th>beds</th>\n",
       "      <th>baths</th>\n",
       "      <th>sqft</th>\n",
       "      <th>year_built</th>\n",
       "      <th>lot_size</th>\n",
       "      <th>property_type</th>\n",
       "      <th>exterior_walls</th>\n",
       "      <th>roof</th>\n",
       "      <th>basement</th>\n",
       "      <th>restaurants</th>\n",
       "      <th>groceries</th>\n",
       "      <th>nightlife</th>\n",
       "      <th>cafes</th>\n",
       "      <th>shopping</th>\n",
       "      <th>arts_entertainment</th>\n",
       "      <th>beauty_spas</th>\n",
       "      <th>active_life</th>\n",
       "      <th>median_age</th>\n",
       "      <th>married</th>\n",
       "      <th>college_grad</th>\n",
       "      <th>property_tax</th>\n",
       "      <th>insurance</th>\n",
       "      <th>median_school</th>\n",
       "      <th>num_schools</th>\n",
       "      <th>tx_year</th>\n",
       "    </tr>\n",
       "  </thead>\n",
       "  <tbody>\n",
       "    <tr>\n",
       "      <th>0</th>\n",
       "      <td>295850</td>\n",
       "      <td>1</td>\n",
       "      <td>1</td>\n",
       "      <td>584</td>\n",
       "      <td>2013</td>\n",
       "      <td>0</td>\n",
       "      <td>Apartment / Condo / Townhouse</td>\n",
       "      <td>Wood Siding</td>\n",
       "      <td>Missing</td>\n",
       "      <td>0.0</td>\n",
       "      <td>107</td>\n",
       "      <td>9</td>\n",
       "      <td>30</td>\n",
       "      <td>19</td>\n",
       "      <td>89</td>\n",
       "      <td>6</td>\n",
       "      <td>47</td>\n",
       "      <td>58</td>\n",
       "      <td>33.0</td>\n",
       "      <td>65.0</td>\n",
       "      <td>84.0</td>\n",
       "      <td>234.0</td>\n",
       "      <td>81.0</td>\n",
       "      <td>9.0</td>\n",
       "      <td>3.0</td>\n",
       "      <td>2013</td>\n",
       "    </tr>\n",
       "    <tr>\n",
       "      <th>1</th>\n",
       "      <td>216500</td>\n",
       "      <td>1</td>\n",
       "      <td>1</td>\n",
       "      <td>612</td>\n",
       "      <td>1965</td>\n",
       "      <td>0</td>\n",
       "      <td>Apartment / Condo / Townhouse</td>\n",
       "      <td>Brick</td>\n",
       "      <td>Composition Shingle</td>\n",
       "      <td>1.0</td>\n",
       "      <td>105</td>\n",
       "      <td>15</td>\n",
       "      <td>6</td>\n",
       "      <td>13</td>\n",
       "      <td>87</td>\n",
       "      <td>2</td>\n",
       "      <td>26</td>\n",
       "      <td>14</td>\n",
       "      <td>39.0</td>\n",
       "      <td>73.0</td>\n",
       "      <td>69.0</td>\n",
       "      <td>169.0</td>\n",
       "      <td>51.0</td>\n",
       "      <td>3.0</td>\n",
       "      <td>3.0</td>\n",
       "      <td>2006</td>\n",
       "    </tr>\n",
       "    <tr>\n",
       "      <th>2</th>\n",
       "      <td>279900</td>\n",
       "      <td>1</td>\n",
       "      <td>1</td>\n",
       "      <td>615</td>\n",
       "      <td>1963</td>\n",
       "      <td>0</td>\n",
       "      <td>Apartment / Condo / Townhouse</td>\n",
       "      <td>Wood Siding</td>\n",
       "      <td>Missing</td>\n",
       "      <td>0.0</td>\n",
       "      <td>183</td>\n",
       "      <td>13</td>\n",
       "      <td>31</td>\n",
       "      <td>30</td>\n",
       "      <td>101</td>\n",
       "      <td>10</td>\n",
       "      <td>74</td>\n",
       "      <td>62</td>\n",
       "      <td>28.0</td>\n",
       "      <td>15.0</td>\n",
       "      <td>86.0</td>\n",
       "      <td>216.0</td>\n",
       "      <td>74.0</td>\n",
       "      <td>8.0</td>\n",
       "      <td>3.0</td>\n",
       "      <td>2012</td>\n",
       "    </tr>\n",
       "    <tr>\n",
       "      <th>3</th>\n",
       "      <td>379900</td>\n",
       "      <td>1</td>\n",
       "      <td>1</td>\n",
       "      <td>618</td>\n",
       "      <td>2000</td>\n",
       "      <td>33541</td>\n",
       "      <td>Apartment / Condo / Townhouse</td>\n",
       "      <td>Wood Siding</td>\n",
       "      <td>Missing</td>\n",
       "      <td>0.0</td>\n",
       "      <td>198</td>\n",
       "      <td>9</td>\n",
       "      <td>38</td>\n",
       "      <td>25</td>\n",
       "      <td>127</td>\n",
       "      <td>11</td>\n",
       "      <td>72</td>\n",
       "      <td>83</td>\n",
       "      <td>36.0</td>\n",
       "      <td>25.0</td>\n",
       "      <td>91.0</td>\n",
       "      <td>265.0</td>\n",
       "      <td>92.0</td>\n",
       "      <td>9.0</td>\n",
       "      <td>3.0</td>\n",
       "      <td>2005</td>\n",
       "    </tr>\n",
       "    <tr>\n",
       "      <th>4</th>\n",
       "      <td>340000</td>\n",
       "      <td>1</td>\n",
       "      <td>1</td>\n",
       "      <td>634</td>\n",
       "      <td>1992</td>\n",
       "      <td>0</td>\n",
       "      <td>Apartment / Condo / Townhouse</td>\n",
       "      <td>Brick</td>\n",
       "      <td>Missing</td>\n",
       "      <td>0.0</td>\n",
       "      <td>149</td>\n",
       "      <td>7</td>\n",
       "      <td>22</td>\n",
       "      <td>20</td>\n",
       "      <td>83</td>\n",
       "      <td>10</td>\n",
       "      <td>50</td>\n",
       "      <td>73</td>\n",
       "      <td>37.0</td>\n",
       "      <td>20.0</td>\n",
       "      <td>75.0</td>\n",
       "      <td>88.0</td>\n",
       "      <td>30.0</td>\n",
       "      <td>9.0</td>\n",
       "      <td>3.0</td>\n",
       "      <td>2002</td>\n",
       "    </tr>\n",
       "  </tbody>\n",
       "</table>\n",
       "</div>"
      ],
      "text/plain": [
       "   tx_price  beds  baths  sqft  year_built  lot_size  \\\n",
       "0    295850     1      1   584        2013         0   \n",
       "1    216500     1      1   612        1965         0   \n",
       "2    279900     1      1   615        1963         0   \n",
       "3    379900     1      1   618        2000     33541   \n",
       "4    340000     1      1   634        1992         0   \n",
       "\n",
       "                   property_type exterior_walls                 roof  \\\n",
       "0  Apartment / Condo / Townhouse    Wood Siding              Missing   \n",
       "1  Apartment / Condo / Townhouse          Brick  Composition Shingle   \n",
       "2  Apartment / Condo / Townhouse    Wood Siding              Missing   \n",
       "3  Apartment / Condo / Townhouse    Wood Siding              Missing   \n",
       "4  Apartment / Condo / Townhouse          Brick              Missing   \n",
       "\n",
       "   basement  restaurants  groceries  nightlife  cafes  shopping  \\\n",
       "0       0.0          107          9         30     19        89   \n",
       "1       1.0          105         15          6     13        87   \n",
       "2       0.0          183         13         31     30       101   \n",
       "3       0.0          198          9         38     25       127   \n",
       "4       0.0          149          7         22     20        83   \n",
       "\n",
       "   arts_entertainment  beauty_spas  active_life  median_age  married  \\\n",
       "0                   6           47           58        33.0     65.0   \n",
       "1                   2           26           14        39.0     73.0   \n",
       "2                  10           74           62        28.0     15.0   \n",
       "3                  11           72           83        36.0     25.0   \n",
       "4                  10           50           73        37.0     20.0   \n",
       "\n",
       "   college_grad  property_tax  insurance  median_school  num_schools  tx_year  \n",
       "0          84.0         234.0       81.0            9.0          3.0     2013  \n",
       "1          69.0         169.0       51.0            3.0          3.0     2006  \n",
       "2          86.0         216.0       74.0            8.0          3.0     2012  \n",
       "3          91.0         265.0       92.0            9.0          3.0     2005  \n",
       "4          75.0          88.0       30.0            9.0          3.0     2002  "
      ]
     },
     "execution_count": 57,
     "metadata": {},
     "output_type": "execute_result"
    }
   ],
   "source": [
    "df.head()"
   ]
  },
  {
   "cell_type": "markdown",
   "metadata": {},
   "source": [
    "<br id=\"domain\">\n",
    "# 1. Start with domain knowledge\n",
    "\n",
    "You can often engineer informative features by tapping into your (or others') expertise about the domain.\n",
    "\n",
    "<br>\n",
    "Create an indicator variable to flag properties with 2 beds and 2 baths and name it <code style=\"color:steelblue\">'two_and_two'</code>."
   ]
  },
  {
   "cell_type": "code",
   "execution_count": 58,
   "metadata": {
    "collapsed": false
   },
   "outputs": [],
   "source": [
    "# Create indicator variable for properties with 2 beds and 2 baths\n",
    "df[\"two_and_two\"] = ((df.beds == 2) & (df.baths == 2)).astype(int)"
   ]
  },
  {
   "cell_type": "markdown",
   "metadata": {},
   "source": [
    "Display the proportion of our observations that have 2 beds and 2 baths."
   ]
  },
  {
   "cell_type": "code",
   "execution_count": 59,
   "metadata": {
    "collapsed": false
   },
   "outputs": [
    {
     "data": {
      "text/plain": [
       "0.09458023379383634"
      ]
     },
     "execution_count": 59,
     "metadata": {},
     "output_type": "execute_result"
    }
   ],
   "source": [
    "# Display percent of rows where two_and_two == 1\n",
    "df.two_and_two.mean()"
   ]
  },
  {
   "cell_type": "markdown",
   "metadata": {},
   "source": [
    "Next, let's engineer an indicator feature for the housing market recession.\n"
   ]
  },
  {
   "cell_type": "markdown",
   "metadata": {},
   "source": [
    "<br><hr style=\"border-color:royalblue;background-color:royalblue;height:1px;\">\n",
    "## <span style=\"color:RoyalBlue\">Exercise 3.1</span>\n",
    "\n",
    "**Create a new feature called <code style=\"color:steelblue\">'during_recession'</code> to indicate if a transaction falls between 2010 and 2013.**\n",
    "1. Create a boolean mask to check if <code style=\"color:steelblue\">tx_year >= 2010</code>\n",
    "2. Create a boolean mask to check if <code style=\"color:steelblue\">tx_year <= 2013</code>\n",
    "3. Combine the two masks with an <code style=\"color:steelblue\">&</code> operator\n",
    "4. Convert the resulting series to type <code style=\"color:steelblue\">int</code> to map from <code style=\"color:crimson\">True/False</code> to <code style=\"color:crimson\">1/0</code>"
   ]
  },
  {
   "cell_type": "code",
   "execution_count": 60,
   "metadata": {
    "collapsed": true
   },
   "outputs": [],
   "source": [
    "# Create indicator feature for transactions between 2010 and 2013, inclusive\n",
    "df[\"during_recession\"] = ((df.tx_year >= 2010) & (df.tx_year <= 2013)).astype(int)"
   ]
  },
  {
   "cell_type": "markdown",
   "metadata": {},
   "source": [
    "**What proportion of transactions in our dataset were during the recession?**"
   ]
  },
  {
   "cell_type": "code",
   "execution_count": 61,
   "metadata": {
    "collapsed": false
   },
   "outputs": [
    {
     "data": {
      "text/plain": [
       "0.2635494155154091"
      ]
     },
     "execution_count": 61,
     "metadata": {},
     "output_type": "execute_result"
    }
   ],
   "source": [
    "# Print percent of transactions where during_recession == 1\n",
    "df.during_recession.mean()"
   ]
  },
  {
   "cell_type": "markdown",
   "metadata": {},
   "source": [
    "In the case where we're checking to see if a value falls between two numbers, there's a shortcut:\n",
    "\n",
    "<pre style=\"color:steelblue\">df.tx_year<strong>.between(2010, 2013)</strong>.astype(int)</pre>\n",
    "\n",
    "This creates an indicator feature that should be equivalent to the one you created earlier from combining two boolean masks.\n",
    "\n",
    "<br>\n",
    "**Confirm that the \"between\" indicator feature is equivalent to the one you created earlier.**\n",
    "* Set the earlier feature to a variable named <code style=\"color:steelblue\">a</code>\n",
    "* Set this new feature to a variable named <code style=\"color:steelblue\">b</code>\n",
    "* Confirm they are equivalent with <code style=\"color:steelblue\">all(a == b)</code>, which checks to see if every element in <code style=\"color:steelblue\">a</code> is equal to the corresponding element in <code style=\"color:steelblue\">b</code>"
   ]
  },
  {
   "cell_type": "code",
   "execution_count": 62,
   "metadata": {
    "collapsed": false
   },
   "outputs": [
    {
     "data": {
      "text/plain": [
       "True"
      ]
     },
     "execution_count": 62,
     "metadata": {},
     "output_type": "execute_result"
    }
   ],
   "source": [
    "# Set variable a as the earlier indicator variable (combining two masks)\n",
    "a = ((df.tx_year >= 2010) & (df.tx_year <= 2013)).astype(int)\n",
    "\n",
    "# Set variable b as the new indicator variable (using \"between\")\n",
    "b = df.tx_year.between(2010, 2013).astype(int)\n",
    "\n",
    "# Are a and b equivalent?\n",
    "all(a == b)"
   ]
  },
  {
   "cell_type": "markdown",
   "metadata": {},
   "source": [
    "One useful tip is that you can overwrite columns in Pandas DataFrames.\n",
    "* You don't need to reload the DataFrame before doing so.\n",
    "* Since these two statements are equivalent, it doesn't matter which we use.\n",
    "\n",
    "<br>\n",
    "**Overwrite the <code style=\"color:steelblue\">'during_recession'</code> feature you created at the beginning of the exercise with the new indicator feature created by <code style=\"color:steelblue\">.between()</code>.**"
   ]
  },
  {
   "cell_type": "code",
   "execution_count": 63,
   "metadata": {
    "collapsed": false
   },
   "outputs": [],
   "source": [
    "# Create indicator feature for transactions between 2010 and 2013, inclusive\n",
    "df.during_recession = df.tx_year.between(2010, 2013).astype(int)"
   ]
  },
  {
   "cell_type": "markdown",
   "metadata": {},
   "source": [
    "<hr style=\"border-color:royalblue;background-color:royalblue;height:1px;\">\n",
    "<div style=\"text-align:center; margin: 40px 0 40px 0;\">\n",
    "[**Back to Contents**](#toc)\n",
    "</div>"
   ]
  },
  {
   "cell_type": "markdown",
   "metadata": {},
   "source": [
    "<br id=\"interaction\">\n",
    "# 2. Create interaction features\n",
    "\n",
    "Next, we have a few specific **heuristics** that can help spark more ideas.\n",
    "\n",
    "<br>\n",
    "Create <code style=\"color:steelblue\">'property_age'</code> feature for the age of the property at the time of the transaction."
   ]
  },
  {
   "cell_type": "code",
   "execution_count": 64,
   "metadata": {
    "collapsed": false
   },
   "outputs": [],
   "source": [
    "# Create a property age feature\n",
    "df['property_age'] = df.tx_year - df.year_built"
   ]
  },
  {
   "cell_type": "markdown",
   "metadata": {},
   "source": [
    "Do a quick sanity check. Print the minimum <code style=\"color:steelblue\">'property_age'</code>."
   ]
  },
  {
   "cell_type": "code",
   "execution_count": 65,
   "metadata": {
    "collapsed": false
   },
   "outputs": [
    {
     "name": "stdout",
     "output_type": "stream",
     "text": [
      "-8\n"
     ]
    }
   ],
   "source": [
    "# Should not be less than 0\n",
    "print(df.property_age.min())"
   ]
  },
  {
   "cell_type": "markdown",
   "metadata": {},
   "source": [
    "Print the number of observations with <code style=\"color:steelblue\">'property_age'</code> less than 0."
   ]
  },
  {
   "cell_type": "code",
   "execution_count": 66,
   "metadata": {
    "collapsed": false
   },
   "outputs": [
    {
     "name": "stdout",
     "output_type": "stream",
     "text": [
      "19\n"
     ]
    }
   ],
   "source": [
    "# Number of observations with 'property_age' < 0\n",
    "print(sum(df.property_age < 0))\n"
   ]
  },
  {
   "cell_type": "markdown",
   "metadata": {},
   "source": [
    "<br><hr style=\"border-color:royalblue;background-color:royalblue;height:1px;\">\n",
    "\n",
    "## <span style=\"color:RoyalBlue\">Exercise 3.2<span>\n",
    "\n",
    "**Remove observations where <code style=\"color:steelblue\">'property_age'</code> is less than 0.**\n",
    "* **Tip:** You can use a boolean mask to keep only observations where <code style=\"color:steelblue\">'property_age'</code> is at least 0.\n",
    "* Overwrite the existing <code style=\"color:steelblue\">df</code>.\n",
    "* Print the length of the new DataFrame."
   ]
  },
  {
   "cell_type": "code",
   "execution_count": 67,
   "metadata": {
    "collapsed": false
   },
   "outputs": [
    {
     "name": "stdout",
     "output_type": "stream",
     "text": [
      "1863\n"
     ]
    }
   ],
   "source": [
    "# Remove rows where property_age is less than 0\n",
    "df = df[df.property_age >= 0]\n",
    "\n",
    "# Print number of rows in remaining dataframe\n",
    "print(len(df))"
   ]
  },
  {
   "cell_type": "markdown",
   "metadata": {},
   "source": [
    "Now, let's add another interaction feature. How about the number of quality schools nearby?\n",
    "\n",
    "* Well, we do know the number of schools nearby (<code style=\"color:steelblue\">'num_schools'</code>) \n",
    "* We also have their median quality score (<code style=\"color:steelblue\">'median_schools'</code>)\n",
    "* But what if it's the **interaction** of those two factors that's really important? \n",
    "* In other words, what if it's good to have many school options, but only if they are good?\n",
    "\n",
    "We can represent this with an interaction feature.\n",
    "\n",
    "<br>\n",
    "**Create a new feature called <code style=\"color:steelblue\">'school_score'</code> that is the product of <code style=\"color:steelblue\">'num_schools'</code> and <code style=\"color:steelblue\">'median_schools'</code>.**"
   ]
  },
  {
   "cell_type": "code",
   "execution_count": 68,
   "metadata": {
    "collapsed": false
   },
   "outputs": [],
   "source": [
    "# Create a school score feature that num_schools * median_school\n",
    "df['school_score'] = df['num_schools'] * df['median_school']"
   ]
  },
  {
   "cell_type": "markdown",
   "metadata": {},
   "source": [
    "**Finally, display the median <code style=\"color:steelblue\">'school_score'</code> from the dataset.**"
   ]
  },
  {
   "cell_type": "code",
   "execution_count": 69,
   "metadata": {
    "collapsed": false
   },
   "outputs": [
    {
     "data": {
      "text/plain": [
       "18.0"
      ]
     },
     "execution_count": 69,
     "metadata": {},
     "output_type": "execute_result"
    }
   ],
   "source": [
    "# Display median school score\n",
    "df.school_score.median()"
   ]
  },
  {
   "cell_type": "markdown",
   "metadata": {},
   "source": [
    "<hr style=\"border-color:royalblue;background-color:royalblue;height:1px;\">\n",
    "<div style=\"text-align:center; margin: 40px 0 40px 0;\">\n",
    "[**Back to Contents**](#toc)\n",
    "</div>"
   ]
  },
  {
   "cell_type": "markdown",
   "metadata": {},
   "source": [
    "<br id=\"group\">\n",
    "# 3. Group sparse classes\n",
    "\n",
    "The next heuristic we'll consider is grouping sparse classes in our categorical features. \n",
    "\n",
    "<br>\n",
    "Let's begin by plotting the bar plots for <code style=\"color:steelblue\">'exterior_walls'</code> again."
   ]
  },
  {
   "cell_type": "code",
   "execution_count": 88,
   "metadata": {
    "collapsed": false
   },
   "outputs": [
    {
     "data": {
      "text/plain": [
       "<matplotlib.axes._subplots.AxesSubplot at 0x114188910>"
      ]
     },
     "execution_count": 88,
     "metadata": {},
     "output_type": "execute_result"
    },
    {
     "data": {
      "image/png": "[encoded data removed]",
      "text/plain": [
       "<matplotlib.figure.Figure at 0x113da7dd0>"
      ]
     },
     "metadata": {},
     "output_type": "display_data"
    }
   ],
   "source": [
    "# Bar plot for exterior_walls\n",
    "sns.countplot(y='exterior_walls', data=df)"
   ]
  },
  {
   "cell_type": "markdown",
   "metadata": {},
   "source": [
    "Group <code style=\"color:crimson\">'Wood Siding'</code>, <code style=\"color:crimson\">'Wood Shingle'</code>, and <code style=\"color:crimson\">'Wood'</code> together. Label all of them as <code style=\"color:crimson\">'Wood'</code>."
   ]
  },
  {
   "cell_type": "code",
   "execution_count": 89,
   "metadata": {
    "collapsed": false
   },
   "outputs": [],
   "source": [
    "# Group 'Wood Siding' and 'Wood Shingle' with 'Wood'\n",
    "df.exterior_walls.replace(['Wood Siding', 'Wood Shingle'], 'Wood', inplace=True)"
   ]
  },
  {
   "cell_type": "markdown",
   "metadata": {},
   "source": [
    "Next, let's label <code style=\"color:crimson\">'Stucco'</code>, <code style=\"color:crimson\">'Other'</code>, <code style=\"color:crimson\">'Asbestos shingle'</code>, <code style=\"color:crimson\">'Concrete Block'</code>, and <code style=\"color:crimson\">'Masonry'</code> as <code style=\"color:crimson;\">'Other'</code>:"
   ]
  },
  {
   "cell_type": "code",
   "execution_count": 90,
   "metadata": {
    "collapsed": false
   },
   "outputs": [],
   "source": [
    "# List of classes to group\n",
    "other_ew = ['Stucco', 'Other', 'Asbestos shingle', 'Concrete Block', 'Masonry']\n",
    "\n",
    "# Group other classes into 'Other'\n",
    "df.exterior_walls.replace(other_ew, 'Other', inplace=True)"
   ]
  },
  {
   "cell_type": "markdown",
   "metadata": {},
   "source": [
    "Finally, now that we've grouped together sparse classes, let's look at the bar plot for exterior walls again."
   ]
  },
  {
   "cell_type": "code",
   "execution_count": 91,
   "metadata": {
    "collapsed": false
   },
   "outputs": [
    {
     "data": {
      "text/plain": [
       "<matplotlib.axes._subplots.AxesSubplot at 0x1147e0990>"
      ]
     },
     "execution_count": 91,
     "metadata": {},
     "output_type": "execute_result"
    },
    {
     "data": {
      "image/png": "[encoded data removed]",
      "text/plain": [
       "<matplotlib.figure.Figure at 0x1147ab790>"
      ]
     },
     "metadata": {},
     "output_type": "display_data"
    }
   ],
   "source": [
    "# Bar plot for exterior_walls\n",
    "sns.countplot(y='exterior_walls', data=df)"
   ]
  },
  {
   "cell_type": "markdown",
   "metadata": {},
   "source": [
    "<br><hr style=\"border-color:royalblue;background-color:royalblue;height:1px;\">\n",
    "## <span style=\"color:RoyalBlue\">Exercise 3.3</span>\n",
    "\n",
    "**First, display the bar plot for <code style=\"color:steelblue\">'roof'</code>.**"
   ]
  },
  {
   "cell_type": "code",
   "execution_count": 92,
   "metadata": {
    "collapsed": false
   },
   "outputs": [
    {
     "data": {
      "text/plain": [
       "<matplotlib.axes._subplots.AxesSubplot at 0x114817050>"
      ]
     },
     "execution_count": 92,
     "metadata": {},
     "output_type": "execute_result"
    },
    {
     "data": {
      "image/png": "[encoded data removed]",
      "text/plain": [
       "<matplotlib.figure.Figure at 0x11486bc50>"
      ]
     },
     "metadata": {},
     "output_type": "display_data"
    }
   ],
   "source": [
    "# Bar plot for roof\n",
    "sns.countplot(y='roof', data=df)"
   ]
  },
  {
   "cell_type": "markdown",
   "metadata": {},
   "source": [
    "As with the <code style=\"color:steelblue\">'exterior_walls'</code> feature above, we can start by grouping classes that are quite similar. \n",
    "\n",
    "<br>\n",
    "**Group <code style=\"color:crimson\">'Composition'</code> and <code style=\"color:crimson\">'Wood Shake/ Shingles'</code> into the <code style=\"color:crimson\">'Composition Shingle'</code> class.**\n",
    "* Remember to perform the replacing with <code style=\"color:steelblue\">inplace=True</code>"
   ]
  },
  {
   "cell_type": "code",
   "execution_count": 93,
   "metadata": {
    "collapsed": false
   },
   "outputs": [],
   "source": [
    "# Group 'Composition' and 'Wood Shake/ Shingles' into 'Composition Shingle'\n",
    "df.roof.replace(['Composition', 'Wood Shake/ Shingles'], 'Composition Shingles', inplace=True)"
   ]
  },
  {
   "cell_type": "markdown",
   "metadata": {},
   "source": [
    "Next, let's group remaining sparse classes into a single <code style=\"color:crimson\">'Other'</code> class.\n",
    "\n",
    "<br>\n",
    "**Label <code style=\"color:crimson\">'Other'</code>, <code style=\"color:crimson\">'Gravel/Rock'</code>, <code style=\"color:crimson\">'Roll Composition'</code>, <code style=\"color:crimson\">'Slate'</code>, <code style=\"color:crimson\">'Built-up'</code>, <code style=\"color:crimson\">'Asbestos'</code>, and <code style=\"color:crimson\">'Metal'</code> as <code style=\"color:crimson\">'Other'</code>.**"
   ]
  },
  {
   "cell_type": "code",
   "execution_count": 94,
   "metadata": {
    "collapsed": true
   },
   "outputs": [],
   "source": [
    "# List of classes to group\n",
    "other_r = ['Other', 'Gravel/Rock', 'Roll Composition', 'Slate', 'Built-up', 'Asbestos', 'Metal', 'Other']\n",
    "\n",
    "# Group other classes into 'Other'\n",
    "df.roof.replace(other_r, 'Other', inplace=True)"
   ]
  },
  {
   "cell_type": "markdown",
   "metadata": {},
   "source": [
    "**Finally, display bar plot again.**"
   ]
  },
  {
   "cell_type": "code",
   "execution_count": 95,
   "metadata": {
    "collapsed": false
   },
   "outputs": [
    {
     "data": {
      "text/plain": [
       "<matplotlib.axes._subplots.AxesSubplot at 0x114a3e750>"
      ]
     },
     "execution_count": 95,
     "metadata": {},
     "output_type": "execute_result"
    },
    {
     "data": {
      "image/png": "[encoded data removed]",
      "text/plain": [
       "<matplotlib.figure.Figure at 0x114a5cdd0>"
      ]
     },
     "metadata": {},
     "output_type": "display_data"
    }
   ],
   "source": [
    "# Bar plot for roof\n",
    "sns.countplot(y='roof', data=df)"
   ]
  },
  {
   "cell_type": "markdown",
   "metadata": {},
   "source": [
    "Much nicer!\n",
    "\n",
    "<hr style=\"border-color:royalblue;background-color:royalblue;height:1px;\">\n",
    "\n",
    "<div style=\"text-align:center; margin: 40px 0 40px 0;\">\n",
    "[**Back to Contents**](#toc)\n",
    "</div>\n",
    "\n"
   ]
  },
  {
   "cell_type": "markdown",
   "metadata": {},
   "source": [
    "<br id=\"dummy\">\n",
    "# 4. Encode dummy variables\n",
    "\n",
    "Python machine learning algorithms cannot handle categorical features directly. \n",
    "\n",
    "<br>\n",
    "Create a new dataframe with dummy variables for for our categorical features."
   ]
  },
  {
   "cell_type": "code",
   "execution_count": 97,
   "metadata": {
    "collapsed": false
   },
   "outputs": [],
   "source": [
    "# Create new dataframe with dummy features\n",
    "df = pd.get_dummies(df, columns=['exterior_walls', 'roof', 'property_type'])"
   ]
  },
  {
   "cell_type": "markdown",
   "metadata": {},
   "source": [
    "Display the first 5 rows of your dataframe to see these new features."
   ]
  },
  {
   "cell_type": "code",
   "execution_count": 98,
   "metadata": {
    "collapsed": false
   },
   "outputs": [
    {
     "data": {
      "text/html": [
       "<div>\n",
       "<table border=\"1\" class=\"dataframe\">\n",
       "  <thead>\n",
       "    <tr style=\"text-align: right;\">\n",
       "      <th></th>\n",
       "      <th>tx_price</th>\n",
       "      <th>beds</th>\n",
       "      <th>baths</th>\n",
       "      <th>sqft</th>\n",
       "      <th>year_built</th>\n",
       "      <th>lot_size</th>\n",
       "      <th>basement</th>\n",
       "      <th>restaurants</th>\n",
       "      <th>groceries</th>\n",
       "      <th>nightlife</th>\n",
       "      <th>cafes</th>\n",
       "      <th>shopping</th>\n",
       "      <th>arts_entertainment</th>\n",
       "      <th>beauty_spas</th>\n",
       "      <th>active_life</th>\n",
       "      <th>median_age</th>\n",
       "      <th>married</th>\n",
       "      <th>college_grad</th>\n",
       "      <th>property_tax</th>\n",
       "      <th>insurance</th>\n",
       "      <th>median_school</th>\n",
       "      <th>num_schools</th>\n",
       "      <th>tx_year</th>\n",
       "      <th>exterior_walls_Brick</th>\n",
       "      <th>exterior_walls_Brick veneer</th>\n",
       "      <th>exterior_walls_Combination</th>\n",
       "      <th>exterior_walls_Metal</th>\n",
       "      <th>exterior_walls_Missing</th>\n",
       "      <th>exterior_walls_Other</th>\n",
       "      <th>exterior_walls_Siding (Alum/Vinyl)</th>\n",
       "      <th>exterior_walls_Wood</th>\n",
       "      <th>roof_Asphalt</th>\n",
       "      <th>roof_Composition Shingle</th>\n",
       "      <th>roof_Composition Shingles</th>\n",
       "      <th>roof_Missing</th>\n",
       "      <th>roof_Other</th>\n",
       "      <th>roof_Shake Shingle</th>\n",
       "      <th>property_type_Apartment / Condo / Townhouse</th>\n",
       "      <th>property_type_Single-Family</th>\n",
       "    </tr>\n",
       "  </thead>\n",
       "  <tbody>\n",
       "    <tr>\n",
       "      <th>0</th>\n",
       "      <td>295850</td>\n",
       "      <td>1</td>\n",
       "      <td>1</td>\n",
       "      <td>584</td>\n",
       "      <td>2013</td>\n",
       "      <td>0</td>\n",
       "      <td>0.0</td>\n",
       "      <td>107</td>\n",
       "      <td>9</td>\n",
       "      <td>30</td>\n",
       "      <td>19</td>\n",
       "      <td>89</td>\n",
       "      <td>6</td>\n",
       "      <td>47</td>\n",
       "      <td>58</td>\n",
       "      <td>33.0</td>\n",
       "      <td>65.0</td>\n",
       "      <td>84.0</td>\n",
       "      <td>234.0</td>\n",
       "      <td>81.0</td>\n",
       "      <td>9.0</td>\n",
       "      <td>3.0</td>\n",
       "      <td>2013</td>\n",
       "      <td>0</td>\n",
       "      <td>0</td>\n",
       "      <td>0</td>\n",
       "      <td>0</td>\n",
       "      <td>0</td>\n",
       "      <td>0</td>\n",
       "      <td>0</td>\n",
       "      <td>1</td>\n",
       "      <td>0</td>\n",
       "      <td>0</td>\n",
       "      <td>0</td>\n",
       "      <td>1</td>\n",
       "      <td>0</td>\n",
       "      <td>0</td>\n",
       "      <td>1</td>\n",
       "      <td>0</td>\n",
       "    </tr>\n",
       "    <tr>\n",
       "      <th>1</th>\n",
       "      <td>216500</td>\n",
       "      <td>1</td>\n",
       "      <td>1</td>\n",
       "      <td>612</td>\n",
       "      <td>1965</td>\n",
       "      <td>0</td>\n",
       "      <td>1.0</td>\n",
       "      <td>105</td>\n",
       "      <td>15</td>\n",
       "      <td>6</td>\n",
       "      <td>13</td>\n",
       "      <td>87</td>\n",
       "      <td>2</td>\n",
       "      <td>26</td>\n",
       "      <td>14</td>\n",
       "      <td>39.0</td>\n",
       "      <td>73.0</td>\n",
       "      <td>69.0</td>\n",
       "      <td>169.0</td>\n",
       "      <td>51.0</td>\n",
       "      <td>3.0</td>\n",
       "      <td>3.0</td>\n",
       "      <td>2006</td>\n",
       "      <td>1</td>\n",
       "      <td>0</td>\n",
       "      <td>0</td>\n",
       "      <td>0</td>\n",
       "      <td>0</td>\n",
       "      <td>0</td>\n",
       "      <td>0</td>\n",
       "      <td>0</td>\n",
       "      <td>0</td>\n",
       "      <td>1</td>\n",
       "      <td>0</td>\n",
       "      <td>0</td>\n",
       "      <td>0</td>\n",
       "      <td>0</td>\n",
       "      <td>1</td>\n",
       "      <td>0</td>\n",
       "    </tr>\n",
       "    <tr>\n",
       "      <th>2</th>\n",
       "      <td>279900</td>\n",
       "      <td>1</td>\n",
       "      <td>1</td>\n",
       "      <td>615</td>\n",
       "      <td>1963</td>\n",
       "      <td>0</td>\n",
       "      <td>0.0</td>\n",
       "      <td>183</td>\n",
       "      <td>13</td>\n",
       "      <td>31</td>\n",
       "      <td>30</td>\n",
       "      <td>101</td>\n",
       "      <td>10</td>\n",
       "      <td>74</td>\n",
       "      <td>62</td>\n",
       "      <td>28.0</td>\n",
       "      <td>15.0</td>\n",
       "      <td>86.0</td>\n",
       "      <td>216.0</td>\n",
       "      <td>74.0</td>\n",
       "      <td>8.0</td>\n",
       "      <td>3.0</td>\n",
       "      <td>2012</td>\n",
       "      <td>0</td>\n",
       "      <td>0</td>\n",
       "      <td>0</td>\n",
       "      <td>0</td>\n",
       "      <td>0</td>\n",
       "      <td>0</td>\n",
       "      <td>0</td>\n",
       "      <td>1</td>\n",
       "      <td>0</td>\n",
       "      <td>0</td>\n",
       "      <td>0</td>\n",
       "      <td>1</td>\n",
       "      <td>0</td>\n",
       "      <td>0</td>\n",
       "      <td>1</td>\n",
       "      <td>0</td>\n",
       "    </tr>\n",
       "    <tr>\n",
       "      <th>3</th>\n",
       "      <td>379900</td>\n",
       "      <td>1</td>\n",
       "      <td>1</td>\n",
       "      <td>618</td>\n",
       "      <td>2000</td>\n",
       "      <td>33541</td>\n",
       "      <td>0.0</td>\n",
       "      <td>198</td>\n",
       "      <td>9</td>\n",
       "      <td>38</td>\n",
       "      <td>25</td>\n",
       "      <td>127</td>\n",
       "      <td>11</td>\n",
       "      <td>72</td>\n",
       "      <td>83</td>\n",
       "      <td>36.0</td>\n",
       "      <td>25.0</td>\n",
       "      <td>91.0</td>\n",
       "      <td>265.0</td>\n",
       "      <td>92.0</td>\n",
       "      <td>9.0</td>\n",
       "      <td>3.0</td>\n",
       "      <td>2005</td>\n",
       "      <td>0</td>\n",
       "      <td>0</td>\n",
       "      <td>0</td>\n",
       "      <td>0</td>\n",
       "      <td>0</td>\n",
       "      <td>0</td>\n",
       "      <td>0</td>\n",
       "      <td>1</td>\n",
       "      <td>0</td>\n",
       "      <td>0</td>\n",
       "      <td>0</td>\n",
       "      <td>1</td>\n",
       "      <td>0</td>\n",
       "      <td>0</td>\n",
       "      <td>1</td>\n",
       "      <td>0</td>\n",
       "    </tr>\n",
       "    <tr>\n",
       "      <th>4</th>\n",
       "      <td>340000</td>\n",
       "      <td>1</td>\n",
       "      <td>1</td>\n",
       "      <td>634</td>\n",
       "      <td>1992</td>\n",
       "      <td>0</td>\n",
       "      <td>0.0</td>\n",
       "      <td>149</td>\n",
       "      <td>7</td>\n",
       "      <td>22</td>\n",
       "      <td>20</td>\n",
       "      <td>83</td>\n",
       "      <td>10</td>\n",
       "      <td>50</td>\n",
       "      <td>73</td>\n",
       "      <td>37.0</td>\n",
       "      <td>20.0</td>\n",
       "      <td>75.0</td>\n",
       "      <td>88.0</td>\n",
       "      <td>30.0</td>\n",
       "      <td>9.0</td>\n",
       "      <td>3.0</td>\n",
       "      <td>2002</td>\n",
       "      <td>1</td>\n",
       "      <td>0</td>\n",
       "      <td>0</td>\n",
       "      <td>0</td>\n",
       "      <td>0</td>\n",
       "      <td>0</td>\n",
       "      <td>0</td>\n",
       "      <td>0</td>\n",
       "      <td>0</td>\n",
       "      <td>0</td>\n",
       "      <td>0</td>\n",
       "      <td>1</td>\n",
       "      <td>0</td>\n",
       "      <td>0</td>\n",
       "      <td>1</td>\n",
       "      <td>0</td>\n",
       "    </tr>\n",
       "  </tbody>\n",
       "</table>\n",
       "</div>"
      ],
      "text/plain": [
       "   tx_price  beds  baths  sqft  year_built  lot_size  basement  restaurants  \\\n",
       "0    295850     1      1   584        2013         0       0.0          107   \n",
       "1    216500     1      1   612        1965         0       1.0          105   \n",
       "2    279900     1      1   615        1963         0       0.0          183   \n",
       "3    379900     1      1   618        2000     33541       0.0          198   \n",
       "4    340000     1      1   634        1992         0       0.0          149   \n",
       "\n",
       "   groceries  nightlife  cafes  shopping  arts_entertainment  beauty_spas  \\\n",
       "0          9         30     19        89                   6           47   \n",
       "1         15          6     13        87                   2           26   \n",
       "2         13         31     30       101                  10           74   \n",
       "3          9         38     25       127                  11           72   \n",
       "4          7         22     20        83                  10           50   \n",
       "\n",
       "   active_life  median_age  married  college_grad  property_tax  insurance  \\\n",
       "0           58        33.0     65.0          84.0         234.0       81.0   \n",
       "1           14        39.0     73.0          69.0         169.0       51.0   \n",
       "2           62        28.0     15.0          86.0         216.0       74.0   \n",
       "3           83        36.0     25.0          91.0         265.0       92.0   \n",
       "4           73        37.0     20.0          75.0          88.0       30.0   \n",
       "\n",
       "   median_school  num_schools  tx_year  exterior_walls_Brick  \\\n",
       "0            9.0          3.0     2013                     0   \n",
       "1            3.0          3.0     2006                     1   \n",
       "2            8.0          3.0     2012                     0   \n",
       "3            9.0          3.0     2005                     0   \n",
       "4            9.0          3.0     2002                     1   \n",
       "\n",
       "   exterior_walls_Brick veneer  exterior_walls_Combination  \\\n",
       "0                            0                           0   \n",
       "1                            0                           0   \n",
       "2                            0                           0   \n",
       "3                            0                           0   \n",
       "4                            0                           0   \n",
       "\n",
       "   exterior_walls_Metal  exterior_walls_Missing  exterior_walls_Other  \\\n",
       "0                     0                       0                     0   \n",
       "1                     0                       0                     0   \n",
       "2                     0                       0                     0   \n",
       "3                     0                       0                     0   \n",
       "4                     0                       0                     0   \n",
       "\n",
       "   exterior_walls_Siding (Alum/Vinyl)  exterior_walls_Wood  roof_Asphalt  \\\n",
       "0                                   0                    1             0   \n",
       "1                                   0                    0             0   \n",
       "2                                   0                    1             0   \n",
       "3                                   0                    1             0   \n",
       "4                                   0                    0             0   \n",
       "\n",
       "   roof_Composition Shingle  roof_Composition Shingles  roof_Missing  \\\n",
       "0                         0                          0             1   \n",
       "1                         1                          0             0   \n",
       "2                         0                          0             1   \n",
       "3                         0                          0             1   \n",
       "4                         0                          0             1   \n",
       "\n",
       "   roof_Other  roof_Shake Shingle  \\\n",
       "0           0                   0   \n",
       "1           0                   0   \n",
       "2           0                   0   \n",
       "3           0                   0   \n",
       "4           0                   0   \n",
       "\n",
       "   property_type_Apartment / Condo / Townhouse  property_type_Single-Family  \n",
       "0                                            1                            0  \n",
       "1                                            1                            0  \n",
       "2                                            1                            0  \n",
       "3                                            1                            0  \n",
       "4                                            1                            0  "
      ]
     },
     "execution_count": 98,
     "metadata": {},
     "output_type": "execute_result"
    }
   ],
   "source": [
    "# First 5 rows of dataframe\n",
    "df.head()"
   ]
  },
  {
   "cell_type": "markdown",
   "metadata": {},
   "source": [
    "<div style=\"text-align:center; margin: 40px 0 40px 0;\">\n",
    "[**Back to Contents**](#toc)\n",
    "</div>"
   ]
  },
  {
   "cell_type": "markdown",
   "metadata": {},
   "source": [
    "<br id=\"remove\">\n",
    "# 5. Remove unused or redundant features"
   ]
  },
  {
   "cell_type": "markdown",
   "metadata": {},
   "source": [
    "Finally, let's remove unused for redundant features from our dataset.\n",
    "\n",
    "<br>\n",
    "Drop <code style=\"color:steelblue\">'tx_year'</code> and <code style=\"color:steelblue\">'year_built'</code> from your dataset."
   ]
  },
  {
   "cell_type": "code",
   "execution_count": 100,
   "metadata": {
    "collapsed": false
   },
   "outputs": [],
   "source": [
    "# Drop 'tx_year' and 'year_built' from the dataset\n",
    "df = df.drop(['tx_year', 'year_built'], axis=1)"
   ]
  },
  {
   "cell_type": "markdown",
   "metadata": {
    "collapsed": true
   },
   "source": [
    "Save the analytical base table."
   ]
  },
  {
   "cell_type": "code",
   "execution_count": 101,
   "metadata": {
    "collapsed": true
   },
   "outputs": [],
   "source": [
    "# Save analytical base table\n",
    "df.to_csv('analytical_base_table.csv', index=None)"
   ]
  },
  {
   "cell_type": "markdown",
   "metadata": {},
   "source": [
    "### Final tip\n",
    "\n",
    "Not all of the features you engineer need to be winners. \n",
    "* In fact, you'll often find that many of them do not add much value to your model. \n",
    "* That's OK. \n",
    "* One highly predictive feature makes up for 10 duds.\n",
    "\n",
    "The key is choosing machine learning algorithms that can effectively select the best features among many options (**built-in feature selection**). This will allow you to avoid overfitting your model despite providing many input features. We'll cover this in the next module!\n",
    "\n",
    "\n",
    "<div style=\"text-align:center; margin: 40px 0 40px 0;\">\n",
    "[**Back to Contents**](#toc)\n",
    "</div>"
   ]
  },
  {
   "cell_type": "markdown",
   "metadata": {},
   "source": [
    "<br>\n",
    "## Next Steps\n",
    "\n",
    "Congratulations for making through Project 2's Feature Engineering module!\n",
    "\n",
    "As a reminder, here are a few things you did in this module:\n",
    "* You made several indicator features from domain knowledge.\n",
    "* You created the interaction feature <code style=\"color:steelblue\">'property_age'</code>.\n",
    "* You grouped sparse classes in the <code style=\"color:steelblue\">'exterior_walls'</code> and <code style=\"color:steelblue\">'roof'</code> features.\n",
    "* And you encoded dummy variables and saved the final analytical base table.\n",
    "\n",
    "In the next module, <span style=\"color:royalblue\">Module 4: Regression Algorithms</span>, we'll walk through intuition behind 5 of the most popular (and effective) machine learning algorithms for regression tasks.\n",
    "\n",
    "<div style=\"text-align:center; margin: 40px 0 40px 0;\">\n",
    "[**Back to Contents**](#toc)\n",
    "</div>"
   ]
  }
 ],
 "metadata": {
  "anaconda-cloud": {},
  "kernelspec": {
   "display_name": "Python 2",
   "language": "python",
   "name": "python2"
  },
  "language_info": {
   "codemirror_mode": {
    "name": "ipython",
    "version": 2
   },
   "file_extension": ".py",
   "mimetype": "text/x-python",
   "name": "python",
   "nbconvert_exporter": "python",
   "pygments_lexer": "ipython2",
   "version": "2.7.13"
  }
 },
 "nbformat": 4,
 "nbformat_minor": 0
}
